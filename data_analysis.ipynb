{
 "cells": [
  {
   "cell_type": "code",
   "execution_count": 1,
   "id": "c5e7c864",
   "metadata": {},
   "outputs": [],
   "source": [
    "from data_cleaning import get_data_cleaned\n",
    "import pandas as pd\n",
    "import numpy as np\n",
    "import matplotlib.pyplot as plt\n",
    "import seaborn as sns"
   ]
  },
  {
   "cell_type": "code",
   "execution_count": 2,
   "id": "aa08753e",
   "metadata": {},
   "outputs": [],
   "source": [
    "glassdoor_df, h1bdata_df, salary_ai_df = get_data_cleaned()"
   ]
  },
  {
   "cell_type": "markdown",
   "id": "cfebfa54",
   "metadata": {},
   "source": [
    "# Taking a look at dataset types"
   ]
  },
  {
   "cell_type": "code",
   "execution_count": 3,
   "id": "d7dc0382",
   "metadata": {},
   "outputs": [
    {
     "name": "stdout",
     "output_type": "stream",
     "text": [
      "<class 'pandas.core.frame.DataFrame'>\n",
      "RangeIndex: 742 entries, 0 to 741\n",
      "Data columns (total 36 columns):\n",
      " #   Column              Non-Null Count  Dtype  \n",
      "---  ------              --------------  -----  \n",
      " 0   Job Title           742 non-null    object \n",
      " 1   Salary Estimate     742 non-null    object \n",
      " 2   Job Description     742 non-null    object \n",
      " 3   Rating              742 non-null    float64\n",
      " 4   Location            742 non-null    object \n",
      " 5   Headquarters        742 non-null    object \n",
      " 6   Size                742 non-null    object \n",
      " 7   Founded             742 non-null    int64  \n",
      " 8   Type of ownership   742 non-null    object \n",
      " 9   Sector              742 non-null    object \n",
      " 10  Revenue             742 non-null    object \n",
      " 11  Lower Salary        742 non-null    int64  \n",
      " 12  Upper Salary        742 non-null    int64  \n",
      " 13  Avg Salary(K)       742 non-null    float64\n",
      " 14  company_txt         742 non-null    object \n",
      " 15  Job Location        742 non-null    object \n",
      " 16  Age                 742 non-null    int64  \n",
      " 17  Python              742 non-null    int64  \n",
      " 18  spark               742 non-null    int64  \n",
      " 19  aws                 742 non-null    int64  \n",
      " 20  excel               742 non-null    int64  \n",
      " 21  sql                 742 non-null    int64  \n",
      " 22  sas                 742 non-null    int64  \n",
      " 23  keras               742 non-null    int64  \n",
      " 24  pytorch             742 non-null    int64  \n",
      " 25  scikit              742 non-null    int64  \n",
      " 26  tensor              742 non-null    int64  \n",
      " 27  hadoop              742 non-null    int64  \n",
      " 28  tableau             742 non-null    int64  \n",
      " 29  bi                  742 non-null    int64  \n",
      " 30  flink               742 non-null    int64  \n",
      " 31  mongo               742 non-null    int64  \n",
      " 32  google_an           742 non-null    int64  \n",
      " 33  job_title_sim       742 non-null    object \n",
      " 34  seniority_by_title  742 non-null    object \n",
      " 35  Degree              742 non-null    object \n",
      "dtypes: float64(2), int64(20), object(14)\n",
      "memory usage: 208.8+ KB\n"
     ]
    }
   ],
   "source": [
    "glassdoor_df.info()"
   ]
  },
  {
   "cell_type": "code",
   "execution_count": 4,
   "id": "e139b042",
   "metadata": {},
   "outputs": [
    {
     "data": {
      "text/plain": [
       "data scientist                    313\n",
       "other scientist                   143\n",
       "data engineer                     119\n",
       "analyst                           101\n",
       "machine learning engineer          22\n",
       "Data scientist project manager     16\n",
       "na                                 10\n",
       "data analitics                      8\n",
       "data modeler                        5\n",
       "director                            5\n",
       "Name: job_title_sim, dtype: int64"
      ]
     },
     "execution_count": 4,
     "metadata": {},
     "output_type": "execute_result"
    }
   ],
   "source": [
    "glassdoor_df['job_title_sim'].value_counts()"
   ]
  },
  {
   "cell_type": "code",
   "execution_count": 5,
   "id": "d8fb1d49",
   "metadata": {},
   "outputs": [],
   "source": [
    "glassdoor_df['job_title_sim'] = glassdoor_df['job_title_sim'].apply(lambda x: 'others' if x=='na'  else x)"
   ]
  },
  {
   "cell_type": "code",
   "execution_count": 6,
   "id": "7692d233",
   "metadata": {},
   "outputs": [
    {
     "data": {
      "text/plain": [
       "data scientist                    313\n",
       "other scientist                   143\n",
       "data engineer                     119\n",
       "analyst                           101\n",
       "machine learning engineer          22\n",
       "Data scientist project manager     16\n",
       "others                             10\n",
       "data analitics                      8\n",
       "data modeler                        5\n",
       "director                            5\n",
       "Name: job_title_sim, dtype: int64"
      ]
     },
     "execution_count": 6,
     "metadata": {},
     "output_type": "execute_result"
    }
   ],
   "source": [
    "glassdoor_df['job_title_sim'].value_counts()"
   ]
  },
  {
   "cell_type": "code",
   "execution_count": null,
   "id": "8f421f59",
   "metadata": {},
   "outputs": [],
   "source": []
  },
  {
   "cell_type": "code",
   "execution_count": 7,
   "id": "71fc64d7",
   "metadata": {},
   "outputs": [
    {
     "name": "stdout",
     "output_type": "stream",
     "text": [
      "<class 'pandas.core.frame.DataFrame'>\n",
      "Int64Index: 4587 entries, 0 to 4660\n",
      "Data columns (total 6 columns):\n",
      " #   Column      Non-Null Count  Dtype \n",
      "---  ------      --------------  ----- \n",
      " 0   Unnamed: 0  4587 non-null   int64 \n",
      " 1   company     4587 non-null   object\n",
      " 2   title       4587 non-null   object\n",
      " 3   salary      4587 non-null   object\n",
      " 4   location    4587 non-null   object\n",
      " 5   date        4587 non-null   object\n",
      "dtypes: int64(1), object(5)\n",
      "memory usage: 250.9+ KB\n"
     ]
    }
   ],
   "source": [
    "h1bdata_df.info()"
   ]
  },
  {
   "cell_type": "code",
   "execution_count": 8,
   "id": "0026e170",
   "metadata": {},
   "outputs": [
    {
     "name": "stdout",
     "output_type": "stream",
     "text": [
      "<class 'pandas.core.frame.DataFrame'>\n",
      "RangeIndex: 245 entries, 0 to 244\n",
      "Data columns (total 11 columns):\n",
      " #   Column              Non-Null Count  Dtype \n",
      "---  ------              --------------  ----- \n",
      " 0   work_year           245 non-null    int64 \n",
      " 1   experience_level    245 non-null    object\n",
      " 2   employment_type     245 non-null    object\n",
      " 3   job_title           245 non-null    object\n",
      " 4   salary              245 non-null    int64 \n",
      " 5   salary_currency     245 non-null    object\n",
      " 6   salary_in_usd       245 non-null    int64 \n",
      " 7   employee_residence  245 non-null    object\n",
      " 8   remote_ratio        245 non-null    int64 \n",
      " 9   company_location    245 non-null    object\n",
      " 10  company_size        245 non-null    object\n",
      "dtypes: int64(4), object(7)\n",
      "memory usage: 21.2+ KB\n"
     ]
    }
   ],
   "source": [
    "salary_ai_df.info()"
   ]
  },
  {
   "cell_type": "code",
   "execution_count": null,
   "id": "72fd8885",
   "metadata": {},
   "outputs": [],
   "source": []
  }
 ],
 "metadata": {
  "kernelspec": {
   "display_name": "Python 3 (ipykernel)",
   "language": "python",
   "name": "python3"
  },
  "language_info": {
   "codemirror_mode": {
    "name": "ipython",
    "version": 3
   },
   "file_extension": ".py",
   "mimetype": "text/x-python",
   "name": "python",
   "nbconvert_exporter": "python",
   "pygments_lexer": "ipython3",
   "version": "3.9.7"
  }
 },
 "nbformat": 4,
 "nbformat_minor": 5
}
